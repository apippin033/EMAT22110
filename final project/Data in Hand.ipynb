{
 "cells": [
  {
   "cell_type": "markdown",
   "id": "alone-season",
   "metadata": {},
   "source": [
    "# Data in Hand"
   ]
  },
  {
   "cell_type": "markdown",
   "id": "expensive-milan",
   "metadata": {},
   "source": [
    "For this project I will be working with  a CSV database that I accquired from Movielens|grouplens "
   ]
  },
  {
   "cell_type": "markdown",
   "id": "pleased-wright",
   "metadata": {},
   "source": [
    "This CSV file contains movies from around the world and their popularity as well as revenue, budget, and rating"
   ]
  },
  {
   "cell_type": "code",
   "execution_count": 1,
   "id": "ecological-objective",
   "metadata": {},
   "outputs": [],
   "source": [
    "import pandas as pd"
   ]
  },
  {
   "cell_type": "code",
   "execution_count": 3,
   "id": "sonic-inquiry",
   "metadata": {},
   "outputs": [
    {
     "name": "stderr",
     "output_type": "stream",
     "text": [
      "C:\\Users\\Alan\\anaconda3\\envs\\trial\\lib\\site-packages\\IPython\\core\\interactiveshell.py:3146: DtypeWarning: Columns (10) have mixed types.Specify dtype option on import or set low_memory=False.\n",
      "  has_raised = await self.run_ast_nodes(code_ast.body, cell_name,\n"
     ]
    }
   ],
   "source": [
    "Movies = pd.read_csv(\"C:/Users/Alan/Desktop/MovieDataSet/movies_metadata.csv\", encoding = 'utf-8')"
   ]
  },
  {
   "cell_type": "code",
   "execution_count": 4,
   "id": "static-factor",
   "metadata": {},
   "outputs": [
    {
     "name": "stdout",
     "output_type": "stream",
     "text": [
      "       adult                              belongs_to_collection    budget  \\\n",
      "0      FALSE  {'id': 10194, 'name': 'Toy Story Collection', ...  30000000   \n",
      "1      FALSE                                                NaN  65000000   \n",
      "2      FALSE  {'id': 119050, 'name': 'Grumpy Old Men Collect...         0   \n",
      "3      FALSE                                                NaN  16000000   \n",
      "4      FALSE  {'id': 96871, 'name': 'Father of the Bride Col...         0   \n",
      "...      ...                                                ...       ...   \n",
      "45461  FALSE                                                NaN         0   \n",
      "45462  FALSE                                                NaN         0   \n",
      "45463  FALSE                                                NaN         0   \n",
      "45464  FALSE                                                NaN         0   \n",
      "45465  FALSE                                                NaN         0   \n",
      "\n",
      "                                                  genres  \\\n",
      "0      [{'id': 16, 'name': 'Animation'}, {'id': 35, '...   \n",
      "1      [{'id': 12, 'name': 'Adventure'}, {'id': 14, '...   \n",
      "2      [{'id': 10749, 'name': 'Romance'}, {'id': 35, ...   \n",
      "3      [{'id': 35, 'name': 'Comedy'}, {'id': 18, 'nam...   \n",
      "4                         [{'id': 35, 'name': 'Comedy'}]   \n",
      "...                                                  ...   \n",
      "45461  [{'id': 18, 'name': 'Drama'}, {'id': 10751, 'n...   \n",
      "45462                      [{'id': 18, 'name': 'Drama'}]   \n",
      "45463  [{'id': 28, 'name': 'Action'}, {'id': 18, 'nam...   \n",
      "45464                                                 []   \n",
      "45465                                                 []   \n",
      "\n",
      "                                   homepage      id    imdb_id  \\\n",
      "0      http://toystory.disney.com/toy-story     862  tt0114709   \n",
      "1                                       NaN    8844  tt0113497   \n",
      "2                                       NaN   15602  tt0113228   \n",
      "3                                       NaN   31357  tt0114885   \n",
      "4                                       NaN   11862  tt0113041   \n",
      "...                                     ...     ...        ...   \n",
      "45461  http://www.imdb.com/title/tt6209470/  439050  tt6209470   \n",
      "45462                                   NaN  111109  tt2028550   \n",
      "45463                                   NaN   67758  tt0303758   \n",
      "45464                                   NaN  227506  tt0008536   \n",
      "45465                                   NaN  461257  tt6980792   \n",
      "\n",
      "      original_language               original_title  \\\n",
      "0                    en                    Toy Story   \n",
      "1                    en                      Jumanji   \n",
      "2                    en             Grumpier Old Men   \n",
      "3                    en            Waiting to Exhale   \n",
      "4                    en  Father of the Bride Part II   \n",
      "...                 ...                          ...   \n",
      "45461                fa                Ø±Ú¯ Ø®ÙˆØ§Ø¨   \n",
      "45462                tl          Siglo ng Pagluluwal   \n",
      "45463                en                     Betrayal   \n",
      "45464                en          Satana likuyushchiy   \n",
      "45465                en                     Queerama   \n",
      "\n",
      "                                                overview  ... release_date  \\\n",
      "0      Led by Woody, Andy's toys live happily in his ...  ...   10/30/1995   \n",
      "1      When siblings Judy and Peter discover an encha...  ...   12/15/1995   \n",
      "2      A family wedding reignites the ancient feud be...  ...   12/22/1995   \n",
      "3      Cheated on, mistreated and stepped on, the wom...  ...   12/22/1995   \n",
      "4      Just when George Banks has recovered from his ...  ...    2/10/1995   \n",
      "...                                                  ...  ...          ...   \n",
      "45461        Rising and falling between a man and woman.  ...          NaN   \n",
      "45462  An artist struggles to finish his work while a...  ...   11/17/2011   \n",
      "45463  When one of her hits goes wrong, a professiona...  ...     8/1/2003   \n",
      "45464  In a small town live two brothers, one a minis...  ...   10/21/1917   \n",
      "45465  50 years after decriminalisation of homosexual...  ...     6/9/2017   \n",
      "\n",
      "           revenue runtime                                   spoken_languages  \\\n",
      "0      373554033.0    81.0           [{'iso_639_1': 'en', 'name': 'English'}]   \n",
      "1      262797249.0   104.0  [{'iso_639_1': 'en', 'name': 'English'}, {'iso...   \n",
      "2              0.0   101.0           [{'iso_639_1': 'en', 'name': 'English'}]   \n",
      "3       81452156.0   127.0           [{'iso_639_1': 'en', 'name': 'English'}]   \n",
      "4       76578911.0   106.0           [{'iso_639_1': 'en', 'name': 'English'}]   \n",
      "...            ...     ...                                                ...   \n",
      "45461          0.0    90.0        [{'iso_639_1': 'fa', 'name': 'ÙØ§Ø±Ø³ÛŒ'}]   \n",
      "45462          0.0   360.0                  [{'iso_639_1': 'tl', 'name': ''}]   \n",
      "45463          0.0    90.0           [{'iso_639_1': 'en', 'name': 'English'}]   \n",
      "45464          0.0    87.0                                                 []   \n",
      "45465          0.0    75.0           [{'iso_639_1': 'en', 'name': 'English'}]   \n",
      "\n",
      "         status                                            tagline  \\\n",
      "0      Released                                                NaN   \n",
      "1      Released          Roll the dice and unleash the excitement!   \n",
      "2      Released  Still Yelling. Still Fighting. Still Ready for...   \n",
      "3      Released  Friends are the people who let you be yourself...   \n",
      "4      Released  Just When His World Is Back To Normal... He's ...   \n",
      "...         ...                                                ...   \n",
      "45461  Released         Rising and falling between a man and woman   \n",
      "45462  Released                                                NaN   \n",
      "45463  Released                             A deadly game of wits.   \n",
      "45464  Released                                                NaN   \n",
      "45465  Released                                                NaN   \n",
      "\n",
      "                             title  video vote_average vote_count  \n",
      "0                        Toy Story  False          7.7     5415.0  \n",
      "1                          Jumanji  False          6.9     2413.0  \n",
      "2                 Grumpier Old Men  False          6.5       92.0  \n",
      "3                Waiting to Exhale  False          6.1       34.0  \n",
      "4      Father of the Bride Part II  False          5.7      173.0  \n",
      "...                            ...    ...          ...        ...  \n",
      "45461                       Subdue  False          4.0        1.0  \n",
      "45462          Century of Birthing  False          9.0        3.0  \n",
      "45463                     Betrayal  False          3.8        6.0  \n",
      "45464             Satan Triumphant  False          0.0        0.0  \n",
      "45465                     Queerama  False          0.0        0.0  \n",
      "\n",
      "[45466 rows x 24 columns]\n"
     ]
    }
   ],
   "source": [
    "print(Movies)"
   ]
  },
  {
   "cell_type": "code",
   "execution_count": null,
   "id": "french-syndrome",
   "metadata": {},
   "outputs": [],
   "source": []
  }
 ],
 "metadata": {
  "kernelspec": {
   "display_name": "Python 3",
   "language": "python",
   "name": "python3"
  },
  "language_info": {
   "codemirror_mode": {
    "name": "ipython",
    "version": 3
   },
   "file_extension": ".py",
   "mimetype": "text/x-python",
   "name": "python",
   "nbconvert_exporter": "python",
   "pygments_lexer": "ipython3",
   "version": "3.9.1"
  }
 },
 "nbformat": 4,
 "nbformat_minor": 5
}
