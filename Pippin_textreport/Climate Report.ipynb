{
 "cells": [
  {
   "cell_type": "markdown",
   "id": "deadly-public",
   "metadata": {},
   "source": [
    "# Climate Change 2013"
   ]
  },
  {
   "cell_type": "markdown",
   "id": "international-calculator",
   "metadata": {},
   "source": [
    "### Data by itself means nothing, but when initialized with the propers tools. The random plots of data can be turned into answers for driving questions"
   ]
  },
  {
   "cell_type": "markdown",
   "id": "awful-notion",
   "metadata": {},
   "source": [
    "### To properly analyze and arrange this data i will need to import several packages that will allow me to alter the data"
   ]
  },
  {
   "cell_type": "code",
   "execution_count": 1,
   "id": "positive-jamaica",
   "metadata": {},
   "outputs": [],
   "source": [
    "import nltk\n",
    "from nltk import tokenize as tk\n",
    "from nltk import FreqDist\n",
    "import pandas as pd\n",
    "from nltk.corpus import stopwords\n",
    "import string"
   ]
  },
  {
   "cell_type": "code",
   "execution_count": 2,
   "id": "established-virginia",
   "metadata": {},
   "outputs": [],
   "source": [
    "from vaderSentiment.vaderSentiment import SentimentIntensityAnalyzer\n",
    "import warnings"
   ]
  },
  {
   "cell_type": "code",
   "execution_count": 3,
   "id": "interpreted-accent",
   "metadata": {},
   "outputs": [],
   "source": [
    "posts = pd.read_csv(\"C:/Users/Alan/Desktop/Data/ClimateChange_Apr3-Apr4_2013_fixed.csv\", encoding = 'utf-8')"
   ]
  },
  {
   "cell_type": "markdown",
   "id": "sixth-boundary",
   "metadata": {},
   "source": [
    "### Opening up our file sheet here we can see we have a lot of tweets directed towards climate change. Some are pro and some are negative, but were going to to dive deeper and see how many users were for climate change as opposed to now "
   ]
  },
  {
   "cell_type": "code",
   "execution_count": 4,
   "id": "jewish-newton",
   "metadata": {},
   "outputs": [
    {
     "data": {
      "text/html": [
       "<div>\n",
       "<style scoped>\n",
       "    .dataframe tbody tr th:only-of-type {\n",
       "        vertical-align: middle;\n",
       "    }\n",
       "\n",
       "    .dataframe tbody tr th {\n",
       "        vertical-align: top;\n",
       "    }\n",
       "\n",
       "    .dataframe thead th {\n",
       "        text-align: right;\n",
       "    }\n",
       "</style>\n",
       "<table border=\"1\" class=\"dataframe\">\n",
       "  <thead>\n",
       "    <tr style=\"text-align: right;\">\n",
       "      <th></th>\n",
       "      <th>Unnamed: 0</th>\n",
       "      <th>Date</th>\n",
       "      <th>Title</th>\n",
       "      <th>Url</th>\n",
       "      <th>Domain</th>\n",
       "      <th>Language</th>\n",
       "      <th>Author</th>\n",
       "      <th>Full Name</th>\n",
       "      <th>Full Text</th>\n",
       "      <th>Impressions</th>\n",
       "      <th>Original Url</th>\n",
       "      <th>Thread Author</th>\n",
       "      <th>Thread Created Date</th>\n",
       "      <th>Thread Entry Type</th>\n",
       "      <th>Twitter Followers</th>\n",
       "      <th>Twitter Following</th>\n",
       "      <th>Twitter Reply Count</th>\n",
       "      <th>Twitter Retweets</th>\n",
       "      <th>Twitter Verified</th>\n",
       "    </tr>\n",
       "  </thead>\n",
       "  <tbody>\n",
       "    <tr>\n",
       "      <th>0</th>\n",
       "      <td>0</td>\n",
       "      <td>59:06.0</td>\n",
       "      <td>RT @MarionGroves Abbott says 10yrs ago he wore...</td>\n",
       "      <td>http://twitter.com/Qldaah/statuses/31996236101...</td>\n",
       "      <td>twitter.com</td>\n",
       "      <td>en</td>\n",
       "      <td>Qldaah</td>\n",
       "      <td>Qldaah (David Marler)</td>\n",
       "      <td>RT @MarionGroves Abbott says 10yrs ago he wore...</td>\n",
       "      <td>1413</td>\n",
       "      <td>http://twitter.com/Qldaah/statuses/31996236101...</td>\n",
       "      <td>NaN</td>\n",
       "      <td>NaN</td>\n",
       "      <td>post</td>\n",
       "      <td>1413</td>\n",
       "      <td>1990</td>\n",
       "      <td>0</td>\n",
       "      <td>0</td>\n",
       "      <td>False</td>\n",
       "    </tr>\n",
       "    <tr>\n",
       "      <th>1</th>\n",
       "      <td>2</td>\n",
       "      <td>58:04.0</td>\n",
       "      <td>RT @NSWFarmers RT @AustFarmInstitu: Two climat...</td>\n",
       "      <td>http://twitter.com/TheFacelessSpin/statuses/31...</td>\n",
       "      <td>twitter.com</td>\n",
       "      <td>en</td>\n",
       "      <td>TheFacelessSpin</td>\n",
       "      <td>TheFacelessSpin (FacelessFocusGroup)</td>\n",
       "      <td>RT @NSWFarmers RT @AustFarmInstitu: Two climat...</td>\n",
       "      <td>1063</td>\n",
       "      <td>http://twitter.com/TheFacelessSpin/statuses/31...</td>\n",
       "      <td>NaN</td>\n",
       "      <td>NaN</td>\n",
       "      <td>post</td>\n",
       "      <td>1063</td>\n",
       "      <td>471</td>\n",
       "      <td>0</td>\n",
       "      <td>0</td>\n",
       "      <td>False</td>\n",
       "    </tr>\n",
       "    <tr>\n",
       "      <th>2</th>\n",
       "      <td>3</td>\n",
       "      <td>57:33.0</td>\n",
       "      <td>Steve Stockman Hopes James Hansen's NASA Retir...</td>\n",
       "      <td>http://twitter.com/iamgreenbean/statuses/31996...</td>\n",
       "      <td>twitter.com</td>\n",
       "      <td>en</td>\n",
       "      <td>iamgreenbean</td>\n",
       "      <td>iamgreenbean (Green Bean)</td>\n",
       "      <td>Steve Stockman Hopes James Hansen's NASA Retir...</td>\n",
       "      <td>4365</td>\n",
       "      <td>http://twitter.com/iamgreenbean/statuses/31996...</td>\n",
       "      <td>NaN</td>\n",
       "      <td>NaN</td>\n",
       "      <td>post</td>\n",
       "      <td>4365</td>\n",
       "      <td>4369</td>\n",
       "      <td>0</td>\n",
       "      <td>0</td>\n",
       "      <td>False</td>\n",
       "    </tr>\n",
       "    <tr>\n",
       "      <th>3</th>\n",
       "      <td>4</td>\n",
       "      <td>57:01.0</td>\n",
       "      <td>Ted Turner Tells Obama to Get 'Climate Change ...</td>\n",
       "      <td>http://twitter.com/cpwilldo/statuses/319961839...</td>\n",
       "      <td>twitter.com</td>\n",
       "      <td>en</td>\n",
       "      <td>cpwilldo</td>\n",
       "      <td>cpwilldo (chris price)</td>\n",
       "      <td>Ted Turner Tells Obama to Get 'Climate Change ...</td>\n",
       "      <td>3477</td>\n",
       "      <td>http://twitter.com/cpwilldo/statuses/319961839...</td>\n",
       "      <td>NaN</td>\n",
       "      <td>NaN</td>\n",
       "      <td>post</td>\n",
       "      <td>3477</td>\n",
       "      <td>3806</td>\n",
       "      <td>0</td>\n",
       "      <td>0</td>\n",
       "      <td>False</td>\n",
       "    </tr>\n",
       "    <tr>\n",
       "      <th>4</th>\n",
       "      <td>5</td>\n",
       "      <td>56:52.0</td>\n",
       "      <td>The human race will never fully adapt to clima...</td>\n",
       "      <td>http://twitter.com/GreenSteve_com/statuses/319...</td>\n",
       "      <td>twitter.com</td>\n",
       "      <td>en</td>\n",
       "      <td>GreenSteve_com</td>\n",
       "      <td>GreenSteve_com (Green Steve)</td>\n",
       "      <td>The human race will never fully adapt to clima...</td>\n",
       "      <td>5298</td>\n",
       "      <td>http://twitter.com/GreenSteve_com/statuses/319...</td>\n",
       "      <td>NaN</td>\n",
       "      <td>NaN</td>\n",
       "      <td>post</td>\n",
       "      <td>5298</td>\n",
       "      <td>4840</td>\n",
       "      <td>0</td>\n",
       "      <td>0</td>\n",
       "      <td>False</td>\n",
       "    </tr>\n",
       "    <tr>\n",
       "      <th>...</th>\n",
       "      <td>...</td>\n",
       "      <td>...</td>\n",
       "      <td>...</td>\n",
       "      <td>...</td>\n",
       "      <td>...</td>\n",
       "      <td>...</td>\n",
       "      <td>...</td>\n",
       "      <td>...</td>\n",
       "      <td>...</td>\n",
       "      <td>...</td>\n",
       "      <td>...</td>\n",
       "      <td>...</td>\n",
       "      <td>...</td>\n",
       "      <td>...</td>\n",
       "      <td>...</td>\n",
       "      <td>...</td>\n",
       "      <td>...</td>\n",
       "      <td>...</td>\n",
       "      <td>...</td>\n",
       "    </tr>\n",
       "    <tr>\n",
       "      <th>7146</th>\n",
       "      <td>10062</td>\n",
       "      <td>01:46.0</td>\n",
       "      <td>RT @SebHenbest The @ClimateComm new report lin...</td>\n",
       "      <td>http://twitter.com/kmac/statuses/3192382570051...</td>\n",
       "      <td>twitter.com</td>\n",
       "      <td>en</td>\n",
       "      <td>kmac</td>\n",
       "      <td>kmac (Kate Mackenzie)</td>\n",
       "      <td>RT @SebHenbest The @ClimateComm new report lin...</td>\n",
       "      <td>3826</td>\n",
       "      <td>http://twitter.com/kmac/statuses/3192382570051...</td>\n",
       "      <td>NaN</td>\n",
       "      <td>NaN</td>\n",
       "      <td>post</td>\n",
       "      <td>3826</td>\n",
       "      <td>1657</td>\n",
       "      <td>0</td>\n",
       "      <td>0</td>\n",
       "      <td>True</td>\n",
       "    </tr>\n",
       "    <tr>\n",
       "      <th>7147</th>\n",
       "      <td>10063</td>\n",
       "      <td>01:26.0</td>\n",
       "      <td>Think it's all hype? Might wanna listen to thi...</td>\n",
       "      <td>http://twitter.com/LFreshwater/statuses/319238...</td>\n",
       "      <td>twitter.com</td>\n",
       "      <td>en</td>\n",
       "      <td>LFreshwater</td>\n",
       "      <td>LFreshwater (Lou Freshwater)</td>\n",
       "      <td>Think it's all hype? Might wanna listen to thi...</td>\n",
       "      <td>1048</td>\n",
       "      <td>http://twitter.com/LFreshwater/statuses/319238...</td>\n",
       "      <td>NaN</td>\n",
       "      <td>NaN</td>\n",
       "      <td>post</td>\n",
       "      <td>1048</td>\n",
       "      <td>719</td>\n",
       "      <td>0</td>\n",
       "      <td>0</td>\n",
       "      <td>False</td>\n",
       "    </tr>\n",
       "    <tr>\n",
       "      <th>7148</th>\n",
       "      <td>10070</td>\n",
       "      <td>00:30.0</td>\n",
       "      <td>Bhandari: All crises (energy, food, climate ch...</td>\n",
       "      <td>http://twitter.com/diegofguillen/statuses/3192...</td>\n",
       "      <td>twitter.com</td>\n",
       "      <td>en</td>\n",
       "      <td>diegofguillen</td>\n",
       "      <td>diegofguillen (diegofguillen)</td>\n",
       "      <td>Bhandari: All crises (energy, food, climate ch...</td>\n",
       "      <td>211</td>\n",
       "      <td>http://twitter.com/diegofguillen/statuses/3192...</td>\n",
       "      <td>NaN</td>\n",
       "      <td>NaN</td>\n",
       "      <td>post</td>\n",
       "      <td>211</td>\n",
       "      <td>238</td>\n",
       "      <td>0</td>\n",
       "      <td>0</td>\n",
       "      <td>False</td>\n",
       "    </tr>\n",
       "    <tr>\n",
       "      <th>7149</th>\n",
       "      <td>10071</td>\n",
       "      <td>00:21.0</td>\n",
       "      <td>#GlobalWarming Accelerating, Study Says - http...</td>\n",
       "      <td>http://twitter.com/greenerideal/statuses/31923...</td>\n",
       "      <td>twitter.com</td>\n",
       "      <td>en</td>\n",
       "      <td>greenerideal</td>\n",
       "      <td>greenerideal (Greener Ideal)</td>\n",
       "      <td>#GlobalWarming Accelerating, Study Says - http...</td>\n",
       "      <td>4776</td>\n",
       "      <td>http://twitter.com/greenerideal/statuses/31923...</td>\n",
       "      <td>NaN</td>\n",
       "      <td>NaN</td>\n",
       "      <td>post</td>\n",
       "      <td>4776</td>\n",
       "      <td>2631</td>\n",
       "      <td>0</td>\n",
       "      <td>0</td>\n",
       "      <td>False</td>\n",
       "    </tr>\n",
       "    <tr>\n",
       "      <th>7150</th>\n",
       "      <td>10072</td>\n",
       "      <td>00:04.0</td>\n",
       "      <td>Americans want more renewable energy and more ...</td>\n",
       "      <td>http://twitter.com/GreenCartoons/statuses/3192...</td>\n",
       "      <td>twitter.com</td>\n",
       "      <td>en</td>\n",
       "      <td>GreenCartoons</td>\n",
       "      <td>GreenCartoons (Joe Mohr)</td>\n",
       "      <td>Americans want more renewable energy and more ...</td>\n",
       "      <td>2479</td>\n",
       "      <td>http://twitter.com/GreenCartoons/statuses/3192...</td>\n",
       "      <td>NaN</td>\n",
       "      <td>NaN</td>\n",
       "      <td>post</td>\n",
       "      <td>2479</td>\n",
       "      <td>1083</td>\n",
       "      <td>0</td>\n",
       "      <td>0</td>\n",
       "      <td>False</td>\n",
       "    </tr>\n",
       "  </tbody>\n",
       "</table>\n",
       "<p>7151 rows × 19 columns</p>\n",
       "</div>"
      ],
      "text/plain": [
       "      Unnamed: 0     Date                                              Title  \\\n",
       "0              0  59:06.0  RT @MarionGroves Abbott says 10yrs ago he wore...   \n",
       "1              2  58:04.0  RT @NSWFarmers RT @AustFarmInstitu: Two climat...   \n",
       "2              3  57:33.0  Steve Stockman Hopes James Hansen's NASA Retir...   \n",
       "3              4  57:01.0  Ted Turner Tells Obama to Get 'Climate Change ...   \n",
       "4              5  56:52.0  The human race will never fully adapt to clima...   \n",
       "...          ...      ...                                                ...   \n",
       "7146       10062  01:46.0  RT @SebHenbest The @ClimateComm new report lin...   \n",
       "7147       10063  01:26.0  Think it's all hype? Might wanna listen to thi...   \n",
       "7148       10070  00:30.0  Bhandari: All crises (energy, food, climate ch...   \n",
       "7149       10071  00:21.0  #GlobalWarming Accelerating, Study Says - http...   \n",
       "7150       10072  00:04.0  Americans want more renewable energy and more ...   \n",
       "\n",
       "                                                    Url       Domain Language  \\\n",
       "0     http://twitter.com/Qldaah/statuses/31996236101...  twitter.com       en   \n",
       "1     http://twitter.com/TheFacelessSpin/statuses/31...  twitter.com       en   \n",
       "2     http://twitter.com/iamgreenbean/statuses/31996...  twitter.com       en   \n",
       "3     http://twitter.com/cpwilldo/statuses/319961839...  twitter.com       en   \n",
       "4     http://twitter.com/GreenSteve_com/statuses/319...  twitter.com       en   \n",
       "...                                                 ...          ...      ...   \n",
       "7146  http://twitter.com/kmac/statuses/3192382570051...  twitter.com       en   \n",
       "7147  http://twitter.com/LFreshwater/statuses/319238...  twitter.com       en   \n",
       "7148  http://twitter.com/diegofguillen/statuses/3192...  twitter.com       en   \n",
       "7149  http://twitter.com/greenerideal/statuses/31923...  twitter.com       en   \n",
       "7150  http://twitter.com/GreenCartoons/statuses/3192...  twitter.com       en   \n",
       "\n",
       "               Author                             Full Name  \\\n",
       "0              Qldaah                 Qldaah (David Marler)   \n",
       "1     TheFacelessSpin  TheFacelessSpin (FacelessFocusGroup)   \n",
       "2        iamgreenbean             iamgreenbean (Green Bean)   \n",
       "3            cpwilldo                cpwilldo (chris price)   \n",
       "4      GreenSteve_com          GreenSteve_com (Green Steve)   \n",
       "...               ...                                   ...   \n",
       "7146             kmac                 kmac (Kate Mackenzie)   \n",
       "7147      LFreshwater          LFreshwater (Lou Freshwater)   \n",
       "7148    diegofguillen         diegofguillen (diegofguillen)   \n",
       "7149     greenerideal          greenerideal (Greener Ideal)   \n",
       "7150    GreenCartoons              GreenCartoons (Joe Mohr)   \n",
       "\n",
       "                                              Full Text  Impressions  \\\n",
       "0     RT @MarionGroves Abbott says 10yrs ago he wore...         1413   \n",
       "1     RT @NSWFarmers RT @AustFarmInstitu: Two climat...         1063   \n",
       "2     Steve Stockman Hopes James Hansen's NASA Retir...         4365   \n",
       "3     Ted Turner Tells Obama to Get 'Climate Change ...         3477   \n",
       "4     The human race will never fully adapt to clima...         5298   \n",
       "...                                                 ...          ...   \n",
       "7146  RT @SebHenbest The @ClimateComm new report lin...         3826   \n",
       "7147  Think it's all hype? Might wanna listen to thi...         1048   \n",
       "7148  Bhandari: All crises (energy, food, climate ch...          211   \n",
       "7149  #GlobalWarming Accelerating, Study Says - http...         4776   \n",
       "7150  Americans want more renewable energy and more ...         2479   \n",
       "\n",
       "                                           Original Url  Thread Author  \\\n",
       "0     http://twitter.com/Qldaah/statuses/31996236101...            NaN   \n",
       "1     http://twitter.com/TheFacelessSpin/statuses/31...            NaN   \n",
       "2     http://twitter.com/iamgreenbean/statuses/31996...            NaN   \n",
       "3     http://twitter.com/cpwilldo/statuses/319961839...            NaN   \n",
       "4     http://twitter.com/GreenSteve_com/statuses/319...            NaN   \n",
       "...                                                 ...            ...   \n",
       "7146  http://twitter.com/kmac/statuses/3192382570051...            NaN   \n",
       "7147  http://twitter.com/LFreshwater/statuses/319238...            NaN   \n",
       "7148  http://twitter.com/diegofguillen/statuses/3192...            NaN   \n",
       "7149  http://twitter.com/greenerideal/statuses/31923...            NaN   \n",
       "7150  http://twitter.com/GreenCartoons/statuses/3192...            NaN   \n",
       "\n",
       "      Thread Created Date Thread Entry Type  Twitter Followers  \\\n",
       "0                     NaN              post               1413   \n",
       "1                     NaN              post               1063   \n",
       "2                     NaN              post               4365   \n",
       "3                     NaN              post               3477   \n",
       "4                     NaN              post               5298   \n",
       "...                   ...               ...                ...   \n",
       "7146                  NaN              post               3826   \n",
       "7147                  NaN              post               1048   \n",
       "7148                  NaN              post                211   \n",
       "7149                  NaN              post               4776   \n",
       "7150                  NaN              post               2479   \n",
       "\n",
       "      Twitter Following  Twitter Reply Count  Twitter Retweets  \\\n",
       "0                  1990                    0                 0   \n",
       "1                   471                    0                 0   \n",
       "2                  4369                    0                 0   \n",
       "3                  3806                    0                 0   \n",
       "4                  4840                    0                 0   \n",
       "...                 ...                  ...               ...   \n",
       "7146               1657                    0                 0   \n",
       "7147                719                    0                 0   \n",
       "7148                238                    0                 0   \n",
       "7149               2631                    0                 0   \n",
       "7150               1083                    0                 0   \n",
       "\n",
       "      Twitter Verified  \n",
       "0                False  \n",
       "1                False  \n",
       "2                False  \n",
       "3                False  \n",
       "4                False  \n",
       "...                ...  \n",
       "7146              True  \n",
       "7147             False  \n",
       "7148             False  \n",
       "7149             False  \n",
       "7150             False  \n",
       "\n",
       "[7151 rows x 19 columns]"
      ]
     },
     "execution_count": 4,
     "metadata": {},
     "output_type": "execute_result"
    }
   ],
   "source": [
    "posts"
   ]
  },
  {
   "cell_type": "code",
   "execution_count": 5,
   "id": "interpreted-pepper",
   "metadata": {},
   "outputs": [
    {
     "data": {
      "text/plain": [
       "Index(['Unnamed: 0', 'Date', 'Title', 'Url', 'Domain', 'Language', 'Author',\n",
       "       'Full Name', 'Full Text', 'Impressions', 'Original Url',\n",
       "       'Thread Author', 'Thread Created Date', 'Thread Entry Type',\n",
       "       'Twitter Followers', 'Twitter Following', 'Twitter Reply Count',\n",
       "       'Twitter Retweets', 'Twitter Verified'],\n",
       "      dtype='object')"
      ]
     },
     "execution_count": 5,
     "metadata": {},
     "output_type": "execute_result"
    }
   ],
   "source": [
    "posts.keys()"
   ]
  },
  {
   "cell_type": "code",
   "execution_count": 6,
   "id": "higher-richards",
   "metadata": {},
   "outputs": [
    {
     "data": {
      "text/plain": [
       "0       False\n",
       "1       False\n",
       "2       False\n",
       "3       False\n",
       "4       False\n",
       "        ...  \n",
       "7146     True\n",
       "7147    False\n",
       "7148    False\n",
       "7149    False\n",
       "7150    False\n",
       "Name: Twitter Verified, Length: 7151, dtype: bool"
      ]
     },
     "execution_count": 6,
     "metadata": {},
     "output_type": "execute_result"
    }
   ],
   "source": [
    "posts['Twitter Verified']"
   ]
  },
  {
   "cell_type": "markdown",
   "id": "union-subject",
   "metadata": {},
   "source": [
    "### Breaking down our data, we want to go ahead and look at what our verified users are saying for they are the ones who get the most views and influence on Twitter"
   ]
  },
  {
   "cell_type": "code",
   "execution_count": 20,
   "id": "important-lesbian",
   "metadata": {},
   "outputs": [
    {
     "data": {
      "text/plain": [
       "0    0\n",
       "1    0\n",
       "2    0\n",
       "3    0\n",
       "4    0\n",
       "5    0\n",
       "6    0\n",
       "7    0\n",
       "8    0\n",
       "9    0\n",
       "Name: echo_labeled, dtype: object"
      ]
     },
     "execution_count": 20,
     "metadata": {},
     "output_type": "execute_result"
    }
   ],
   "source": [
    "echo_labeled = []\n",
    "for i in posts['Twitter Verified']:\n",
    "    if type(i) == str:\n",
    "        echo_labeled.append(i)\n",
    "    else:\n",
    "        echo_labeled.append('0')\n",
    "posts['echo_labeled'] = echo_labeled\n",
    "posts['echo_labeled'][0:10]"
   ]
  },
  {
   "cell_type": "code",
   "execution_count": 24,
   "id": "solved-surface",
   "metadata": {},
   "outputs": [
    {
     "data": {
      "text/plain": [
       "0     rt @mariongroves abbott says 10yrs ago he wore...\n",
       "1     rt @nswfarmers rt @austfarminstitu: two climat...\n",
       "2     steve stockman hopes james hansen's nasa retir...\n",
       "3     ted turner tells obama to get 'climate change ...\n",
       "4     the human race will never fully adapt to clima...\n",
       "5     #climate climate change will increase extreme ...\n",
       "6     climate change: addressing the challenge of su...\n",
       "7     #vannews bc political candidates tackle climat...\n",
       "8     rt @greenistweet #climatechange will double ar...\n",
       "9     rt @huffpostgreen now you can blame that rash ...\n",
       "10    creamydk: dnews: bringing climate change to th...\n",
       "11    rt @nrdc just tuning in? watch @revyearwood sp...\n",
       "12    we can debate this or that aspect of climate c...\n",
       "13    we have cancer to cure aids,world hunger,clima...\n",
       "14    rt @yaleclimatecomm #worldbank pres calls #cli...\n",
       "15    interested in climate change policy and carbon...\n",
       "16    pathetically old & senile ted turner tells oba...\n",
       "17    obama: i need sharper message on climate chang...\n",
       "18    @jacktownbb you can be stupid about climate ch...\n",
       "19    \"who in the room has heard of @billmckibben?\" ...\n",
       "20    rt @kashkat climate change, global warming: re...\n",
       "21    b.c. political candidates tackle climate chang...\n",
       "22    rt @nrdc just tuning in? watch @revyearwood sp...\n",
       "23    plants to climate change : go ahead, bring on ...\n",
       "24    rt @colbycollege @colbycollege gets to #carbon...\n",
       "25    rt @desierraclub watch now! @revyearwood @hiph...\n",
       "26    climate change is here, ready or not http://t....\n",
       "27    rt @albertasoapbox: rt @carbongate: climate ch...\n",
       "28    rt @wsjwashington obama: i need sharper messag...\n",
       "29    speaking now on the dangers of climate change ...\n",
       "30    pcci vp for mindanao ricardo juliano tells #so...\n",
       "31    rt @iluvco2 @turnbullmalcolm long list of dud ...\n",
       "32    rt @10iesha watching @revyearwood tell it like...\n",
       "33    usda reports synthesize literature on climate ...\n",
       "34    climate cast: the not so hidden insurance cost...\n",
       "35    @girleffect what do we have to learn from #cub...\n",
       "36    climate change will increase extreme precipita...\n",
       "37    .@revyearwood: “history will show [pres. obama...\n",
       "38    @good learning from @cuba youth activists on c...\n",
       "39    @climatedesk @guardianeco long list of dud war...\n",
       "40    rt @drbobbullard happening now. @revyearwood s...\n",
       "41    @oxfamcanada @oxfamquebec what do we have to l...\n",
       "42    #qldpol #auspol #ausvotes #climatechange denia...\n",
       "43    rt @10iesha watching @revyearwood tell it like...\n",
       "44    @darkstartweets @voiceofchid @mike_truman @the...\n",
       "45    rt @yaleclimatecomm #worldbank pres calls #cli...\n",
       "46    handbook of \"climate change\" using haarp, chem...\n",
       "47    @wtdeniers long list of dud warmist prediction...\n",
       "48    climate-change policy: the threat posed by cli...\n",
       "49    climate change commission report: extreme weat...\n",
       "50    http://t.co/z1izcciytn the way in which climat...\n",
       "Name: Twitter Verified_lower, dtype: object"
      ]
     },
     "execution_count": 24,
     "metadata": {},
     "output_type": "execute_result"
    }
   ],
   "source": [
    "posts['Twitter Verified_lower'] = [x.lower() for x in posts['Full Text']]\n",
    "posts['Twitter Verified_lower'].head(51)"
   ]
  },
  {
   "cell_type": "markdown",
   "id": "premium-marsh",
   "metadata": {},
   "source": [
    "## While we didnt pull the verified users, we can clearly see here that most of the tweets are negative about climate change in its current state"
   ]
  },
  {
   "cell_type": "code",
   "execution_count": 25,
   "id": "optional-object",
   "metadata": {},
   "outputs": [],
   "source": [
    "warnings.filterwarnings('ignore')"
   ]
  },
  {
   "cell_type": "code",
   "execution_count": 27,
   "id": "brilliant-study",
   "metadata": {},
   "outputs": [
    {
     "data": {
      "text/plain": [
       "\"“@WSJwashington: Obama: I Need Message on Climate Change that doesn't suck. http://t.co/KspA8X5v5p” Paraphrasing\""
      ]
     },
     "execution_count": 27,
     "metadata": {},
     "output_type": "execute_result"
    }
   ],
   "source": [
    "posts['Full Text'][51]"
   ]
  },
  {
   "cell_type": "code",
   "execution_count": 28,
   "id": "dutch-tactics",
   "metadata": {},
   "outputs": [
    {
     "data": {
      "text/plain": [
       "0    [rt, @, mariongroves, abbott, says, 10yrs, ago...\n",
       "1    [rt, @, nswfarmers, rt, @, austfarminstitu, :,...\n",
       "2    [steve, stockman, hopes, james, hansen, 's, na...\n",
       "3    [ted, turner, tells, obama, to, get, 'climate,...\n",
       "4    [the, human, race, will, never, fully, adapt, ...\n",
       "Name: tokens, dtype: object"
      ]
     },
     "execution_count": 28,
     "metadata": {},
     "output_type": "execute_result"
    }
   ],
   "source": [
    "posts['tokens'] = [tk.word_tokenize(x) for x in posts['Twitter Verified_lower']]\n",
    "posts['tokens'].head(5)"
   ]
  },
  {
   "cell_type": "markdown",
   "id": "egyptian-franklin",
   "metadata": {},
   "source": [
    "## we will be using stopwords to gather better information as these words do not add much to what were trying to accomplish with our goal"
   ]
  },
  {
   "cell_type": "code",
   "execution_count": 29,
   "id": "mathematical-hollow",
   "metadata": {},
   "outputs": [
    {
     "data": {
      "text/plain": [
       "['i',\n",
       " 'me',\n",
       " 'my',\n",
       " 'myself',\n",
       " 'we',\n",
       " 'our',\n",
       " 'ours',\n",
       " 'ourselves',\n",
       " 'you',\n",
       " \"you're\",\n",
       " \"you've\",\n",
       " \"you'll\",\n",
       " \"you'd\",\n",
       " 'your',\n",
       " 'yours',\n",
       " 'yourself',\n",
       " 'yourselves',\n",
       " 'he',\n",
       " 'him',\n",
       " 'his',\n",
       " 'himself',\n",
       " 'she',\n",
       " \"she's\",\n",
       " 'her',\n",
       " 'hers',\n",
       " 'herself',\n",
       " 'it',\n",
       " \"it's\",\n",
       " 'its',\n",
       " 'itself',\n",
       " 'they',\n",
       " 'them',\n",
       " 'their',\n",
       " 'theirs',\n",
       " 'themselves',\n",
       " 'what',\n",
       " 'which',\n",
       " 'who',\n",
       " 'whom',\n",
       " 'this',\n",
       " 'that',\n",
       " \"that'll\",\n",
       " 'these',\n",
       " 'those',\n",
       " 'am',\n",
       " 'is',\n",
       " 'are',\n",
       " 'was',\n",
       " 'were',\n",
       " 'be',\n",
       " 'been',\n",
       " 'being',\n",
       " 'have',\n",
       " 'has',\n",
       " 'had',\n",
       " 'having',\n",
       " 'do',\n",
       " 'does',\n",
       " 'did',\n",
       " 'doing',\n",
       " 'a',\n",
       " 'an',\n",
       " 'the',\n",
       " 'and',\n",
       " 'but',\n",
       " 'if',\n",
       " 'or',\n",
       " 'because',\n",
       " 'as',\n",
       " 'until',\n",
       " 'while',\n",
       " 'of',\n",
       " 'at',\n",
       " 'by',\n",
       " 'for',\n",
       " 'with',\n",
       " 'about',\n",
       " 'against',\n",
       " 'between',\n",
       " 'into',\n",
       " 'through',\n",
       " 'during',\n",
       " 'before',\n",
       " 'after',\n",
       " 'above',\n",
       " 'below',\n",
       " 'to',\n",
       " 'from',\n",
       " 'up',\n",
       " 'down',\n",
       " 'in',\n",
       " 'out',\n",
       " 'on',\n",
       " 'off',\n",
       " 'over',\n",
       " 'under',\n",
       " 'again',\n",
       " 'further',\n",
       " 'then',\n",
       " 'once',\n",
       " 'here',\n",
       " 'there',\n",
       " 'when',\n",
       " 'where',\n",
       " 'why',\n",
       " 'how',\n",
       " 'all',\n",
       " 'any',\n",
       " 'both',\n",
       " 'each',\n",
       " 'few',\n",
       " 'more',\n",
       " 'most',\n",
       " 'other',\n",
       " 'some',\n",
       " 'such',\n",
       " 'no',\n",
       " 'nor',\n",
       " 'not',\n",
       " 'only',\n",
       " 'own',\n",
       " 'same',\n",
       " 'so',\n",
       " 'than',\n",
       " 'too',\n",
       " 'very',\n",
       " 's',\n",
       " 't',\n",
       " 'can',\n",
       " 'will',\n",
       " 'just',\n",
       " 'don',\n",
       " \"don't\",\n",
       " 'should',\n",
       " \"should've\",\n",
       " 'now',\n",
       " 'd',\n",
       " 'll',\n",
       " 'm',\n",
       " 'o',\n",
       " 're',\n",
       " 've',\n",
       " 'y',\n",
       " 'ain',\n",
       " 'aren',\n",
       " \"aren't\",\n",
       " 'couldn',\n",
       " \"couldn't\",\n",
       " 'didn',\n",
       " \"didn't\",\n",
       " 'doesn',\n",
       " \"doesn't\",\n",
       " 'hadn',\n",
       " \"hadn't\",\n",
       " 'hasn',\n",
       " \"hasn't\",\n",
       " 'haven',\n",
       " \"haven't\",\n",
       " 'isn',\n",
       " \"isn't\",\n",
       " 'ma',\n",
       " 'mightn',\n",
       " \"mightn't\",\n",
       " 'mustn',\n",
       " \"mustn't\",\n",
       " 'needn',\n",
       " \"needn't\",\n",
       " 'shan',\n",
       " \"shan't\",\n",
       " 'shouldn',\n",
       " \"shouldn't\",\n",
       " 'wasn',\n",
       " \"wasn't\",\n",
       " 'weren',\n",
       " \"weren't\",\n",
       " 'won',\n",
       " \"won't\",\n",
       " 'wouldn',\n",
       " \"wouldn't\"]"
      ]
     },
     "execution_count": 29,
     "metadata": {},
     "output_type": "execute_result"
    }
   ],
   "source": [
    "stopwords.words('english')"
   ]
  },
  {
   "cell_type": "code",
   "execution_count": 30,
   "id": "accessible-sussex",
   "metadata": {},
   "outputs": [
    {
     "data": {
      "text/plain": [
       "['“',\n",
       " '@',\n",
       " 'wsjwashington',\n",
       " ':',\n",
       " 'obama',\n",
       " ':',\n",
       " 'i',\n",
       " 'need',\n",
       " 'message',\n",
       " 'on',\n",
       " 'climate',\n",
       " 'change',\n",
       " 'that',\n",
       " 'does',\n",
       " \"n't\",\n",
       " 'suck',\n",
       " '.',\n",
       " 'http',\n",
       " ':',\n",
       " '//t.co/kspa8x5v5p',\n",
       " '”',\n",
       " 'paraphrasing']"
      ]
     },
     "execution_count": 30,
     "metadata": {},
     "output_type": "execute_result"
    }
   ],
   "source": [
    "posts['tokens'][51]"
   ]
  },
  {
   "cell_type": "code",
   "execution_count": 35,
   "id": "frank-introduction",
   "metadata": {},
   "outputs": [],
   "source": [
    "filtered = []\n",
    "for i in posts['tokens']:\n",
    "    filtered.append([word for word in i if word not in stopwords.words('english')])\n",
    "    \n",
    "posts['filtered'] = filtered"
   ]
  },
  {
   "cell_type": "code",
   "execution_count": 37,
   "id": "intellectual-chambers",
   "metadata": {},
   "outputs": [
    {
     "data": {
      "text/plain": [
       "['“',\n",
       " '@',\n",
       " 'wsjwashington',\n",
       " ':',\n",
       " 'obama',\n",
       " ':',\n",
       " 'need',\n",
       " 'message',\n",
       " 'climate',\n",
       " 'change',\n",
       " \"n't\",\n",
       " 'suck',\n",
       " '.',\n",
       " 'http',\n",
       " ':',\n",
       " '//t.co/kspa8x5v5p',\n",
       " '”',\n",
       " 'paraphrasing']"
      ]
     },
     "execution_count": 37,
     "metadata": {},
     "output_type": "execute_result"
    }
   ],
   "source": [
    "posts['filtered'][51]"
   ]
  },
  {
   "cell_type": "code",
   "execution_count": 38,
   "id": "spoken-print",
   "metadata": {},
   "outputs": [
    {
     "data": {
      "text/plain": [
       "'!\"#$%&\\'()*+,-./:;<=>?@[\\\\]^_`{|}~'"
      ]
     },
     "execution_count": 38,
     "metadata": {},
     "output_type": "execute_result"
    }
   ],
   "source": [
    "string.punctuation"
   ]
  },
  {
   "cell_type": "code",
   "execution_count": 39,
   "id": "graduate-uganda",
   "metadata": {},
   "outputs": [
    {
     "data": {
      "text/plain": [
       "['“',\n",
       " 'wsjwashington',\n",
       " 'obama',\n",
       " 'need',\n",
       " 'message',\n",
       " 'climate',\n",
       " 'change',\n",
       " \"n't\",\n",
       " 'suck',\n",
       " 'http',\n",
       " '//t.co/kspa8x5v5p',\n",
       " '”',\n",
       " 'paraphrasing']"
      ]
     },
     "execution_count": 39,
     "metadata": {},
     "output_type": "execute_result"
    }
   ],
   "source": [
    "no_punct = []\n",
    "for i in posts['filtered']:\n",
    "    no_punct.append([word for word in i if word not in string.punctuation])\n",
    "    \n",
    "posts['no_punct'] = no_punct\n",
    "posts['no_punct'][51]"
   ]
  },
  {
   "cell_type": "markdown",
   "id": "cubic-upgrade",
   "metadata": {},
   "source": [
    "### We have spent this time filtering out anything that doesnt relate to climate change to get a better sense of what our users think"
   ]
  },
  {
   "cell_type": "code",
   "execution_count": 40,
   "id": "healthy-saying",
   "metadata": {},
   "outputs": [
    {
     "data": {
      "text/plain": [
       "0       {'rt': 1, 'mariongroves': 1, 'abbott': 1, 'say...\n",
       "1       {'rt': 2, 'nswfarmers': 1, 'austfarminstitu': ...\n",
       "2       {'steve': 1, 'stockman': 1, 'hopes': 1, 'james...\n",
       "3       {'ted': 1, 'turner': 1, 'tells': 1, 'obama': 1...\n",
       "4       {'human': 1, 'race': 1, 'never': 1, 'fully': 1...\n",
       "                              ...                        \n",
       "7146    {'rt': 1, 'sebhenbest': 1, 'climatecomm': 1, '...\n",
       "7147    {'think': 1, ''s': 1, 'hype': 1, 'might': 1, '...\n",
       "7148    {'bhandari': 1, 'crises': 1, 'energy': 1, 'foo...\n",
       "7149    {'globalwarming': 1, 'accelerating': 1, 'study...\n",
       "7150    {'americans': 1, 'want': 1, 'renewable': 1, 'e...\n",
       "Name: freqs1, Length: 7151, dtype: object"
      ]
     },
     "execution_count": 40,
     "metadata": {},
     "output_type": "execute_result"
    }
   ],
   "source": [
    "freq1 = [FreqDist(x) for x in posts['no_punct']]\n",
    "posts['freqs1'] = freq1\n",
    "posts['freqs1']"
   ]
  },
  {
   "cell_type": "code",
   "execution_count": 41,
   "id": "brilliant-princess",
   "metadata": {},
   "outputs": [],
   "source": [
    "from collections import Counter"
   ]
  },
  {
   "cell_type": "code",
   "execution_count": 42,
   "id": "streaming-journalist",
   "metadata": {},
   "outputs": [
    {
     "data": {
      "text/plain": [
       "Counter({'rt': 3,\n",
       "         'mariongroves': 1,\n",
       "         'abbott': 1,\n",
       "         'says': 1,\n",
       "         '10yrs': 1,\n",
       "         'ago': 1,\n",
       "         'wore': 1,\n",
       "         'speedos': 1,\n",
       "         '289': 1,\n",
       "         'days': 1,\n",
       "         'year': 1,\n",
       "         'changed': 1,\n",
       "         'therefore': 1,\n",
       "         'climate': 2,\n",
       "         'change': 2,\n",
       "         'http': 2,\n",
       "         '//t.co/hvfjlwq8m4': 1,\n",
       "         'nswfarmers': 1,\n",
       "         'austfarminstitu': 1,\n",
       "         'two': 1,\n",
       "         'reports': 1,\n",
       "         'one': 1,\n",
       "         'week': 1,\n",
       "         'distinctly': 1,\n",
       "         'different': 1,\n",
       "         'conclusions': 1,\n",
       "         '//t.co/brzafgvexc': 1,\n",
       "         'auspol': 1})"
      ]
     },
     "execution_count": 42,
     "metadata": {},
     "output_type": "execute_result"
    }
   ],
   "source": [
    "A = Counter(posts['freqs1'][0])\n",
    "B = Counter(posts['freqs1'][1])\n",
    "A + B"
   ]
  },
  {
   "cell_type": "code",
   "execution_count": 44,
   "id": "quantitative-census",
   "metadata": {},
   "outputs": [
    {
     "data": {
      "text/plain": [
       "Counter({'rt': 1,\n",
       "         'mariongroves': 1,\n",
       "         'abbott': 1,\n",
       "         'says': 1,\n",
       "         '10yrs': 1,\n",
       "         'ago': 1,\n",
       "         'wore': 1,\n",
       "         'speedos': 1,\n",
       "         '289': 1,\n",
       "         'days': 1,\n",
       "         'year': 1,\n",
       "         'changed': 1,\n",
       "         'therefore': 1,\n",
       "         'climate': 1,\n",
       "         'change': 1,\n",
       "         'http': 1,\n",
       "         '//t.co/hvfjlwq8m4': 1})"
      ]
     },
     "execution_count": 44,
     "metadata": {},
     "output_type": "execute_result"
    }
   ],
   "source": [
    "posts['f1_counts'] = [Counter(x) for x in posts['freqs1']]\n",
    "posts['f1_counts'][0]"
   ]
  },
  {
   "cell_type": "code",
   "execution_count": 45,
   "id": "acting-desert",
   "metadata": {},
   "outputs": [],
   "source": [
    "wordcounts = Counter()\n",
    "for i in posts['f1_counts']:\n",
    "    wordcounts += i"
   ]
  },
  {
   "cell_type": "code",
   "execution_count": 46,
   "id": "pleased-infection",
   "metadata": {},
   "outputs": [
    {
     "data": {
      "text/html": [
       "<div>\n",
       "<style scoped>\n",
       "    .dataframe tbody tr th:only-of-type {\n",
       "        vertical-align: middle;\n",
       "    }\n",
       "\n",
       "    .dataframe tbody tr th {\n",
       "        vertical-align: top;\n",
       "    }\n",
       "\n",
       "    .dataframe thead th {\n",
       "        text-align: right;\n",
       "    }\n",
       "</style>\n",
       "<table border=\"1\" class=\"dataframe\">\n",
       "  <thead>\n",
       "    <tr style=\"text-align: right;\">\n",
       "      <th></th>\n",
       "      <th>0</th>\n",
       "    </tr>\n",
       "  </thead>\n",
       "  <tbody>\n",
       "    <tr>\n",
       "      <th>rt</th>\n",
       "      <td>2791</td>\n",
       "    </tr>\n",
       "    <tr>\n",
       "      <th>mariongroves</th>\n",
       "      <td>3</td>\n",
       "    </tr>\n",
       "    <tr>\n",
       "      <th>abbott</th>\n",
       "      <td>150</td>\n",
       "    </tr>\n",
       "    <tr>\n",
       "      <th>says</th>\n",
       "      <td>172</td>\n",
       "    </tr>\n",
       "    <tr>\n",
       "      <th>10yrs</th>\n",
       "      <td>1</td>\n",
       "    </tr>\n",
       "    <tr>\n",
       "      <th>...</th>\n",
       "      <td>...</td>\n",
       "    </tr>\n",
       "    <tr>\n",
       "      <th>predatory</th>\n",
       "      <td>1</td>\n",
       "    </tr>\n",
       "    <tr>\n",
       "      <th>gr</th>\n",
       "      <td>1</td>\n",
       "    </tr>\n",
       "    <tr>\n",
       "      <th>//t.co/gl4hqosilt</th>\n",
       "      <td>1</td>\n",
       "    </tr>\n",
       "    <tr>\n",
       "      <th>//t.co/q2gzjmxn7i</th>\n",
       "      <td>1</td>\n",
       "    </tr>\n",
       "    <tr>\n",
       "      <th>//t.co/7fdvo7p8e0</th>\n",
       "      <td>1</td>\n",
       "    </tr>\n",
       "  </tbody>\n",
       "</table>\n",
       "<p>15030 rows × 1 columns</p>\n",
       "</div>"
      ],
      "text/plain": [
       "                      0\n",
       "rt                 2791\n",
       "mariongroves          3\n",
       "abbott              150\n",
       "says                172\n",
       "10yrs                 1\n",
       "...                 ...\n",
       "predatory             1\n",
       "gr                    1\n",
       "//t.co/gl4hqosilt     1\n",
       "//t.co/q2gzjmxn7i     1\n",
       "//t.co/7fdvo7p8e0     1\n",
       "\n",
       "[15030 rows x 1 columns]"
      ]
     },
     "execution_count": 46,
     "metadata": {},
     "output_type": "execute_result"
    }
   ],
   "source": [
    "counts = pd.DataFrame.from_dict(dict(wordcounts), orient='index')\n",
    "counts"
   ]
  },
  {
   "cell_type": "code",
   "execution_count": 48,
   "id": "collected-graphic",
   "metadata": {},
   "outputs": [
    {
     "data": {
      "text/html": [
       "<div>\n",
       "<style scoped>\n",
       "    .dataframe tbody tr th:only-of-type {\n",
       "        vertical-align: middle;\n",
       "    }\n",
       "\n",
       "    .dataframe tbody tr th {\n",
       "        vertical-align: top;\n",
       "    }\n",
       "\n",
       "    .dataframe thead th {\n",
       "        text-align: right;\n",
       "    }\n",
       "</style>\n",
       "<table border=\"1\" class=\"dataframe\">\n",
       "  <thead>\n",
       "    <tr style=\"text-align: right;\">\n",
       "      <th></th>\n",
       "      <th>counts</th>\n",
       "    </tr>\n",
       "  </thead>\n",
       "  <tbody>\n",
       "    <tr>\n",
       "      <th>rt</th>\n",
       "      <td>2791</td>\n",
       "    </tr>\n",
       "    <tr>\n",
       "      <th>mariongroves</th>\n",
       "      <td>3</td>\n",
       "    </tr>\n",
       "    <tr>\n",
       "      <th>abbott</th>\n",
       "      <td>150</td>\n",
       "    </tr>\n",
       "    <tr>\n",
       "      <th>says</th>\n",
       "      <td>172</td>\n",
       "    </tr>\n",
       "    <tr>\n",
       "      <th>10yrs</th>\n",
       "      <td>1</td>\n",
       "    </tr>\n",
       "    <tr>\n",
       "      <th>...</th>\n",
       "      <td>...</td>\n",
       "    </tr>\n",
       "    <tr>\n",
       "      <th>predatory</th>\n",
       "      <td>1</td>\n",
       "    </tr>\n",
       "    <tr>\n",
       "      <th>gr</th>\n",
       "      <td>1</td>\n",
       "    </tr>\n",
       "    <tr>\n",
       "      <th>//t.co/gl4hqosilt</th>\n",
       "      <td>1</td>\n",
       "    </tr>\n",
       "    <tr>\n",
       "      <th>//t.co/q2gzjmxn7i</th>\n",
       "      <td>1</td>\n",
       "    </tr>\n",
       "    <tr>\n",
       "      <th>//t.co/7fdvo7p8e0</th>\n",
       "      <td>1</td>\n",
       "    </tr>\n",
       "  </tbody>\n",
       "</table>\n",
       "<p>15030 rows × 1 columns</p>\n",
       "</div>"
      ],
      "text/plain": [
       "                   counts\n",
       "rt                   2791\n",
       "mariongroves            3\n",
       "abbott                150\n",
       "says                  172\n",
       "10yrs                   1\n",
       "...                   ...\n",
       "predatory               1\n",
       "gr                      1\n",
       "//t.co/gl4hqosilt       1\n",
       "//t.co/q2gzjmxn7i       1\n",
       "//t.co/7fdvo7p8e0       1\n",
       "\n",
       "[15030 rows x 1 columns]"
      ]
     },
     "execution_count": 48,
     "metadata": {},
     "output_type": "execute_result"
    }
   ],
   "source": [
    "counts = counts.rename(columns = {0: 'counts'})\n",
    "counts"
   ]
  },
  {
   "cell_type": "code",
   "execution_count": 49,
   "id": "spectacular-safety",
   "metadata": {},
   "outputs": [
    {
     "data": {
      "text/html": [
       "<div>\n",
       "<style scoped>\n",
       "    .dataframe tbody tr th:only-of-type {\n",
       "        vertical-align: middle;\n",
       "    }\n",
       "\n",
       "    .dataframe tbody tr th {\n",
       "        vertical-align: top;\n",
       "    }\n",
       "\n",
       "    .dataframe thead th {\n",
       "        text-align: right;\n",
       "    }\n",
       "</style>\n",
       "<table border=\"1\" class=\"dataframe\">\n",
       "  <thead>\n",
       "    <tr style=\"text-align: right;\">\n",
       "      <th></th>\n",
       "      <th>counts</th>\n",
       "    </tr>\n",
       "  </thead>\n",
       "  <tbody>\n",
       "    <tr>\n",
       "      <th>climate</th>\n",
       "      <td>6339</td>\n",
       "    </tr>\n",
       "    <tr>\n",
       "      <th>change</th>\n",
       "      <td>6008</td>\n",
       "    </tr>\n",
       "    <tr>\n",
       "      <th>http</th>\n",
       "      <td>5463</td>\n",
       "    </tr>\n",
       "    <tr>\n",
       "      <th>rt</th>\n",
       "      <td>2791</td>\n",
       "    </tr>\n",
       "    <tr>\n",
       "      <th>climatechange</th>\n",
       "      <td>1353</td>\n",
       "    </tr>\n",
       "    <tr>\n",
       "      <th>...</th>\n",
       "      <td>988</td>\n",
       "    </tr>\n",
       "    <tr>\n",
       "      <th>'s</th>\n",
       "      <td>850</td>\n",
       "    </tr>\n",
       "    <tr>\n",
       "      <th>``</th>\n",
       "      <td>725</td>\n",
       "    </tr>\n",
       "    <tr>\n",
       "      <th>''</th>\n",
       "      <td>722</td>\n",
       "    </tr>\n",
       "    <tr>\n",
       "      <th>via</th>\n",
       "      <td>564</td>\n",
       "    </tr>\n",
       "    <tr>\n",
       "      <th>global</th>\n",
       "      <td>407</td>\n",
       "    </tr>\n",
       "    <tr>\n",
       "      <th>weather</th>\n",
       "      <td>365</td>\n",
       "    </tr>\n",
       "    <tr>\n",
       "      <th>world</th>\n",
       "      <td>348</td>\n",
       "    </tr>\n",
       "    <tr>\n",
       "      <th>’</th>\n",
       "      <td>346</td>\n",
       "    </tr>\n",
       "    <tr>\n",
       "      <th>report</th>\n",
       "      <td>344</td>\n",
       "    </tr>\n",
       "    <tr>\n",
       "      <th>extreme</th>\n",
       "      <td>330</td>\n",
       "    </tr>\n",
       "    <tr>\n",
       "      <th>new</th>\n",
       "      <td>326</td>\n",
       "    </tr>\n",
       "    <tr>\n",
       "      <th>n't</th>\n",
       "      <td>320</td>\n",
       "    </tr>\n",
       "    <tr>\n",
       "      <th>australia</th>\n",
       "      <td>297</td>\n",
       "    </tr>\n",
       "    <tr>\n",
       "      <th>warming</th>\n",
       "      <td>290</td>\n",
       "    </tr>\n",
       "    <tr>\n",
       "      <th>energy</th>\n",
       "      <td>266</td>\n",
       "    </tr>\n",
       "    <tr>\n",
       "      <th>action</th>\n",
       "      <td>248</td>\n",
       "    </tr>\n",
       "    <tr>\n",
       "      <th>news</th>\n",
       "      <td>248</td>\n",
       "    </tr>\n",
       "    <tr>\n",
       "      <th>worse</th>\n",
       "      <td>237</td>\n",
       "    </tr>\n",
       "    <tr>\n",
       "      <th>obama</th>\n",
       "      <td>222</td>\n",
       "    </tr>\n",
       "    <tr>\n",
       "      <th>bank</th>\n",
       "      <td>199</td>\n",
       "    </tr>\n",
       "    <tr>\n",
       "      <th>could</th>\n",
       "      <td>192</td>\n",
       "    </tr>\n",
       "    <tr>\n",
       "      <th>green</th>\n",
       "      <td>189</td>\n",
       "    </tr>\n",
       "    <tr>\n",
       "      <th>future</th>\n",
       "      <td>186</td>\n",
       "    </tr>\n",
       "    <tr>\n",
       "      <th>risk</th>\n",
       "      <td>185</td>\n",
       "    </tr>\n",
       "    <tr>\n",
       "      <th>nasa</th>\n",
       "      <td>184</td>\n",
       "    </tr>\n",
       "    <tr>\n",
       "      <th>stern</th>\n",
       "      <td>182</td>\n",
       "    </tr>\n",
       "    <tr>\n",
       "      <th>science</th>\n",
       "      <td>173</td>\n",
       "    </tr>\n",
       "    <tr>\n",
       "      <th>says</th>\n",
       "      <td>172</td>\n",
       "    </tr>\n",
       "    <tr>\n",
       "      <th>april</th>\n",
       "      <td>171</td>\n",
       "    </tr>\n",
       "    <tr>\n",
       "      <th>good</th>\n",
       "      <td>170</td>\n",
       "    </tr>\n",
       "    <tr>\n",
       "      <th>going</th>\n",
       "      <td>166</td>\n",
       "    </tr>\n",
       "    <tr>\n",
       "      <th>day</th>\n",
       "      <td>163</td>\n",
       "    </tr>\n",
       "    <tr>\n",
       "      <th>us</th>\n",
       "      <td>163</td>\n",
       "    </tr>\n",
       "    <tr>\n",
       "      <th>time</th>\n",
       "      <td>162</td>\n",
       "    </tr>\n",
       "  </tbody>\n",
       "</table>\n",
       "</div>"
      ],
      "text/plain": [
       "               counts\n",
       "climate          6339\n",
       "change           6008\n",
       "http             5463\n",
       "rt               2791\n",
       "climatechange    1353\n",
       "...               988\n",
       "'s                850\n",
       "``                725\n",
       "''                722\n",
       "via               564\n",
       "global            407\n",
       "weather           365\n",
       "world             348\n",
       "’                 346\n",
       "report            344\n",
       "extreme           330\n",
       "new               326\n",
       "n't               320\n",
       "australia         297\n",
       "warming           290\n",
       "energy            266\n",
       "action            248\n",
       "news              248\n",
       "worse             237\n",
       "obama             222\n",
       "bank              199\n",
       "could             192\n",
       "green             189\n",
       "future            186\n",
       "risk              185\n",
       "nasa              184\n",
       "stern             182\n",
       "science           173\n",
       "says              172\n",
       "april             171\n",
       "good              170\n",
       "going             166\n",
       "day               163\n",
       "us                163\n",
       "time              162"
      ]
     },
     "execution_count": 49,
     "metadata": {},
     "output_type": "execute_result"
    }
   ],
   "source": [
    "count_sort = counts.sort_values('counts', ascending = False)[:40]\n",
    "count_sort"
   ]
  },
  {
   "cell_type": "markdown",
   "id": "offshore-advertiser",
   "metadata": {},
   "source": [
    "### We can see that the majority of our tweets are now related to climate and change"
   ]
  },
  {
   "cell_type": "code",
   "execution_count": 50,
   "id": "interesting-lyric",
   "metadata": {},
   "outputs": [],
   "source": [
    "from matplotlib import pyplot as plt"
   ]
  },
  {
   "cell_type": "code",
   "execution_count": 51,
   "id": "certain-month",
   "metadata": {},
   "outputs": [
    {
     "data": {
      "image/png": "[encoded data removed]",
      "text/plain": [
       "<Figure size 1080x720 with 1 Axes>"
      ]
     },
     "metadata": {
      "needs_background": "light"
     },
     "output_type": "display_data"
    }
   ],
   "source": [
    "fig, ax0 = plt.subplots(figsize=(15,10))\n",
    "ax0.bar(count_sort.index, count_sort['counts'])\n",
    "plt.xticks(rotation=90, fontsize = 'small')\n",
    "plt.show()"
   ]
  },
  {
   "cell_type": "code",
   "execution_count": 54,
   "id": "dangerous-charger",
   "metadata": {},
   "outputs": [
    {
     "name": "stdout",
     "output_type": "stream",
     "text": [
      "{'neg': 0.0, 'neu': 0.833, 'pos': 0.167, 'compound': 0.3412}\n"
     ]
    }
   ],
   "source": [
    "analyser = SentimentIntensityAnalyzer()\n",
    "print(analyser.polarity_scores(posts['Full Text'][51]))"
   ]
  },
  {
   "cell_type": "code",
   "execution_count": 55,
   "id": "wicked-cyprus",
   "metadata": {},
   "outputs": [
    {
     "data": {
      "text/plain": [
       "0     {'neg': 0.0, 'neu': 0.927, 'pos': 0.073, 'comp...\n",
       "1     {'neg': 0.0, 'neu': 1.0, 'pos': 0.0, 'compound...\n",
       "2     {'neg': 0.0, 'neu': 0.681, 'pos': 0.319, 'comp...\n",
       "3     {'neg': 0.0, 'neu': 1.0, 'pos': 0.0, 'compound...\n",
       "4     {'neg': 0.0, 'neu': 1.0, 'pos': 0.0, 'compound...\n",
       "5     {'neg': 0.0, 'neu': 0.839, 'pos': 0.161, 'comp...\n",
       "6     {'neg': 0.0, 'neu': 0.777, 'pos': 0.223, 'comp...\n",
       "7     {'neg': 0.0, 'neu': 1.0, 'pos': 0.0, 'compound...\n",
       "8     {'neg': 0.076, 'neu': 0.924, 'pos': 0.0, 'comp...\n",
       "9     {'neg': 0.338, 'neu': 0.662, 'pos': 0.0, 'comp...\n",
       "10    {'neg': 0.0, 'neu': 1.0, 'pos': 0.0, 'compound...\n",
       "11    {'neg': 0.0, 'neu': 1.0, 'pos': 0.0, 'compound...\n",
       "12    {'neg': 0.0, 'neu': 0.863, 'pos': 0.137, 'comp...\n",
       "13    {'neg': 0.363, 'neu': 0.513, 'pos': 0.124, 'co...\n",
       "14    {'neg': 0.221, 'neu': 0.779, 'pos': 0.0, 'comp...\n",
       "15    {'neg': 0.0, 'neu': 0.784, 'pos': 0.216, 'comp...\n",
       "16    {'neg': 0.167, 'neu': 0.833, 'pos': 0.0, 'comp...\n",
       "17    {'neg': 0.0, 'neu': 1.0, 'pos': 0.0, 'compound...\n",
       "18    {'neg': 0.181, 'neu': 0.819, 'pos': 0.0, 'comp...\n",
       "19    {'neg': 0.0, 'neu': 1.0, 'pos': 0.0, 'compound...\n",
       "20    {'neg': 0.104, 'neu': 0.83, 'pos': 0.066, 'com...\n",
       "21    {'neg': 0.0, 'neu': 1.0, 'pos': 0.0, 'compound...\n",
       "22    {'neg': 0.0, 'neu': 1.0, 'pos': 0.0, 'compound...\n",
       "23    {'neg': 0.07, 'neu': 0.93, 'pos': 0.0, 'compou...\n",
       "24    {'neg': 0.0, 'neu': 1.0, 'pos': 0.0, 'compound...\n",
       "25    {'neg': 0.0, 'neu': 1.0, 'pos': 0.0, 'compound...\n",
       "26    {'neg': 0.0, 'neu': 0.737, 'pos': 0.263, 'comp...\n",
       "27    {'neg': 0.0, 'neu': 1.0, 'pos': 0.0, 'compound...\n",
       "28    {'neg': 0.0, 'neu': 1.0, 'pos': 0.0, 'compound...\n",
       "29    {'neg': 0.135, 'neu': 0.759, 'pos': 0.105, 'co...\n",
       "30    {'neg': 0.0, 'neu': 1.0, 'pos': 0.0, 'compound...\n",
       "31    {'neg': 0.168, 'neu': 0.832, 'pos': 0.0, 'comp...\n",
       "32    {'neg': 0.0, 'neu': 0.848, 'pos': 0.152, 'comp...\n",
       "33    {'neg': 0.0, 'neu': 1.0, 'pos': 0.0, 'compound...\n",
       "34    {'neg': 0.0, 'neu': 1.0, 'pos': 0.0, 'compound...\n",
       "35    {'neg': 0.0, 'neu': 1.0, 'pos': 0.0, 'compound...\n",
       "36    {'neg': 0.0, 'neu': 0.765, 'pos': 0.235, 'comp...\n",
       "37    {'neg': 0.0, 'neu': 0.723, 'pos': 0.277, 'comp...\n",
       "38    {'neg': 0.0, 'neu': 0.555, 'pos': 0.445, 'comp...\n",
       "39    {'neg': 0.134, 'neu': 0.639, 'pos': 0.227, 'co...\n",
       "40    {'neg': 0.0, 'neu': 1.0, 'pos': 0.0, 'compound...\n",
       "41    {'neg': 0.0, 'neu': 1.0, 'pos': 0.0, 'compound...\n",
       "42    {'neg': 0.0, 'neu': 1.0, 'pos': 0.0, 'compound...\n",
       "43    {'neg': 0.0, 'neu': 0.848, 'pos': 0.152, 'comp...\n",
       "44    {'neg': 0.0, 'neu': 0.787, 'pos': 0.213, 'comp...\n",
       "45    {'neg': 0.221, 'neu': 0.779, 'pos': 0.0, 'comp...\n",
       "46    {'neg': 0.209, 'neu': 0.791, 'pos': 0.0, 'comp...\n",
       "47    {'neg': 0.134, 'neu': 0.639, 'pos': 0.227, 'co...\n",
       "48    {'neg': 0.159, 'neu': 0.841, 'pos': 0.0, 'comp...\n",
       "49    {'neg': 0.189, 'neu': 0.811, 'pos': 0.0, 'comp...\n",
       "50    {'neg': 0.0, 'neu': 1.0, 'pos': 0.0, 'compound...\n",
       "Name: vader_scores, dtype: object"
      ]
     },
     "execution_count": 55,
     "metadata": {},
     "output_type": "execute_result"
    }
   ],
   "source": [
    "posts['vader_scores'] = [analyser.polarity_scores(x) for x in posts['Full Text']]\n",
    "posts['vader_scores'].head(51)"
   ]
  },
  {
   "cell_type": "code",
   "execution_count": 62,
   "id": "macro-norwegian",
   "metadata": {},
   "outputs": [
    {
     "data": {
      "text/plain": [
       "0.167"
      ]
     },
     "execution_count": 62,
     "metadata": {},
     "output_type": "execute_result"
    }
   ],
   "source": [
    "posts['vader_scores'][51]['pos']"
   ]
  },
  {
   "cell_type": "code",
   "execution_count": 65,
   "id": "unnecessary-apartment",
   "metadata": {},
   "outputs": [
    {
     "data": {
      "text/plain": [
       "0.0"
      ]
     },
     "execution_count": 65,
     "metadata": {},
     "output_type": "execute_result"
    }
   ],
   "source": [
    "posts['vader_scores'][51]['neg']"
   ]
  },
  {
   "cell_type": "code",
   "execution_count": 57,
   "id": "broadband-decimal",
   "metadata": {},
   "outputs": [
    {
     "data": {
      "text/plain": [
       "0       0.073\n",
       "1       0.000\n",
       "2       0.319\n",
       "3       0.000\n",
       "4       0.000\n",
       "        ...  \n",
       "7146    0.000\n",
       "7147    0.000\n",
       "7148    0.110\n",
       "7149    0.000\n",
       "7150    0.269\n",
       "Name: pos, Length: 7151, dtype: float64"
      ]
     },
     "execution_count": 57,
     "metadata": {},
     "output_type": "execute_result"
    }
   ],
   "source": [
    "posts['pos'] = [x['pos'] for x in posts['vader_scores']]\n",
    "posts['pos']"
   ]
  },
  {
   "cell_type": "code",
   "execution_count": 59,
   "id": "educated-imperial",
   "metadata": {},
   "outputs": [
    {
     "data": {
      "image/png": "[encoded data removed]",
      "text/plain": [
       "<Figure size 720x720 with 1 Axes>"
      ]
     },
     "metadata": {
      "needs_background": "light"
     },
     "output_type": "display_data"
    }
   ],
   "source": [
    "fig, ax0 = plt.subplots(figsize = (10,10))\n",
    "ax0.plot(posts['pos'])\n",
    "plt.xticks(rotation=90, fontsize = 'small')\n",
    "plt.show()"
   ]
  },
  {
   "cell_type": "code",
   "execution_count": 67,
   "id": "afraid-boring",
   "metadata": {},
   "outputs": [
    {
     "data": {
      "text/plain": [
       "0       0.000\n",
       "1       0.000\n",
       "2       0.000\n",
       "3       0.000\n",
       "4       0.000\n",
       "        ...  \n",
       "7146    0.000\n",
       "7147    0.163\n",
       "7148    0.000\n",
       "7149    0.000\n",
       "7150    0.000\n",
       "Name: neg, Length: 7151, dtype: float64"
      ]
     },
     "execution_count": 67,
     "metadata": {},
     "output_type": "execute_result"
    }
   ],
   "source": [
    "posts['neg'] = [x['neg'] for x in posts['vader_scores']]\n",
    "posts['neg']"
   ]
  },
  {
   "cell_type": "code",
   "execution_count": 69,
   "id": "rapid-affiliate",
   "metadata": {},
   "outputs": [
    {
     "data": {
      "image/png": "[encoded data removed]",
      "text/plain": [
       "<Figure size 720x720 with 1 Axes>"
      ]
     },
     "metadata": {
      "needs_background": "light"
     },
     "output_type": "display_data"
    }
   ],
   "source": [
    "fig, ax0 = plt.subplots(figsize = (10,10))\n",
    "ax0.plot(posts['neg'])\n",
    "plt.xticks(rotation=90, fontsize = 'small')\n",
    "plt.show()"
   ]
  },
  {
   "cell_type": "markdown",
   "id": "mathematical-border",
   "metadata": {},
   "source": [
    "### Weve made two graph to show the correlation between postive and negative tweets according to our Vader scores. "
   ]
  },
  {
   "cell_type": "code",
   "execution_count": 60,
   "id": "electric-buffer",
   "metadata": {},
   "outputs": [],
   "source": [
    "from scipy import stats"
   ]
  },
  {
   "cell_type": "code",
   "execution_count": 61,
   "id": "norman-lottery",
   "metadata": {},
   "outputs": [
    {
     "data": {
      "text/plain": [
       "0.07545406236889945"
      ]
     },
     "execution_count": 61,
     "metadata": {},
     "output_type": "execute_result"
    }
   ],
   "source": [
    "stats.describe(posts['pos']).mean"
   ]
  },
  {
   "cell_type": "code",
   "execution_count": 70,
   "id": "available-proposal",
   "metadata": {},
   "outputs": [
    {
     "data": {
      "text/plain": [
       "0.08293511397007411"
      ]
     },
     "execution_count": 70,
     "metadata": {},
     "output_type": "execute_result"
    }
   ],
   "source": [
    "stats.describe(posts['neg']).mean"
   ]
  },
  {
   "cell_type": "code",
   "execution_count": 71,
   "id": "dirty-output",
   "metadata": {},
   "outputs": [
    {
     "data": {
      "text/plain": [
       "Ttest_indResult(statistic=-4.166553318732749, pvalue=3.110568425318014e-05)"
      ]
     },
     "execution_count": 71,
     "metadata": {},
     "output_type": "execute_result"
    }
   ],
   "source": [
    "stats.ttest_ind(posts['pos'], posts['neg'])"
   ]
  },
  {
   "cell_type": "markdown",
   "id": "external-adams",
   "metadata": {},
   "source": [
    "### From what we can gather from our T-test our P value boast a 3.1 while our statistics holds a -4.1. So we can assume from the data gathered that even in 2013. the people werent very happy with our political leaders are handling climate change."
   ]
  }
 ],
 "metadata": {
  "kernelspec": {
   "display_name": "Python 3",
   "language": "python",
   "name": "python3"
  },
  "language_info": {
   "codemirror_mode": {
    "name": "ipython",
    "version": 3
   },
   "file_extension": ".py",
   "mimetype": "text/x-python",
   "name": "python",
   "nbconvert_exporter": "python",
   "pygments_lexer": "ipython3",
   "version": "3.9.1"
  }
 },
 "nbformat": 4,
 "nbformat_minor": 5
}
